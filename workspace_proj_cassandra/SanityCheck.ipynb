{
 "cells": [
  {
   "cell_type": "code",
   "execution_count": 6,
   "metadata": {},
   "outputs": [],
   "source": [
    "import pandas as pd\n",
    "import numpy as np"
   ]
  },
  {
   "cell_type": "code",
   "execution_count": 7,
   "metadata": {},
   "outputs": [],
   "source": [
    "data = pd.read_csv('event_datafile_new.csv')"
   ]
  },
  {
   "cell_type": "markdown",
   "metadata": {},
   "source": [
    "check whether there are possibly multiple item for same song in same session. --- Yes it does."
   ]
  },
  {
   "cell_type": "code",
   "execution_count": 8,
   "metadata": {},
   "outputs": [
    {
     "data": {
      "text/plain": [
       "(array([ 39, 145, 176, 177, 200, 267, 271, 271, 271, 336, 391, 399, 402,\n",
       "        410, 423, 436, 463, 490, 490, 558, 606, 621, 648, 658, 665, 696,\n",
       "        698, 714, 748, 767, 772]),\n",
       " array([ 701, 1823, 4731, 2753,  664, 3876,  664, 3729, 4731, 3558,  219,\n",
       "        2461,  771, 2677, 1706, 5156, 3737, 2316, 4731, 5156, 1448, 2387,\n",
       "        4012, 1399, 3934, 5156, 4731, 3886, 5156, 1432, 1886]))"
      ]
     },
     "execution_count": 8,
     "metadata": {},
     "output_type": "execute_result"
    }
   ],
   "source": [
    "np.where(pd.pivot_table(data, index='sessionId', columns='song', values='itemInSession', aggfunc=len)>1)"
   ]
  },
  {
   "cell_type": "code",
   "execution_count": null,
   "metadata": {},
   "outputs": [],
   "source": []
  }
 ],
 "metadata": {
  "kernelspec": {
   "display_name": "Python 3",
   "language": "python",
   "name": "python3"
  },
  "language_info": {
   "codemirror_mode": {
    "name": "ipython",
    "version": 3
   },
   "file_extension": ".py",
   "mimetype": "text/x-python",
   "name": "python",
   "nbconvert_exporter": "python",
   "pygments_lexer": "ipython3",
   "version": "3.6.3"
  }
 },
 "nbformat": 4,
 "nbformat_minor": 2
}
